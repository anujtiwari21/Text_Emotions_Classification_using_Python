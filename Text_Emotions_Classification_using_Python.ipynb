{
 "cells": [
  {
   "cell_type": "markdown",
   "id": "37785129",
   "metadata": {},
   "source": [
    "# Text_Emotions_Classification_using_Python"
   ]
  },
  {
   "cell_type": "code",
   "execution_count": 1,
   "id": "0968af21",
   "metadata": {},
   "outputs": [],
   "source": [
    "import pandas as pd\n",
    "import numpy as np\n",
    "import keras\n",
    "import tensorflow\n",
    "from keras.preprocessing.text import Tokenizer\n",
    "from tensorflow.keras.preprocessing.sequence import pad_sequences\n",
    "from sklearn.preprocessing import LabelEncoder\n",
    "from sklearn.model_selection import train_test_split\n",
    "from keras.models import Sequential\n",
    "from keras.layers import Embedding, Flatten, Dense"
   ]
  },
  {
   "cell_type": "code",
   "execution_count": 2,
   "id": "0d5716e8",
   "metadata": {},
   "outputs": [
    {
     "name": "stdout",
     "output_type": "stream",
     "text": [
      "                                                Text Emotions\n",
      "0  i can go from feeling so hopeless to so damned...  sadness\n",
      "1   im grabbing a minute to post i feel greedy wrong    anger\n",
      "2  i am ever feeling nostalgic about the fireplac...     love\n",
      "3                               i am feeling grouchy    anger\n",
      "4  ive been feeling a little burdened lately wasn...  sadness\n"
     ]
    }
   ],
   "source": [
    "data = pd.read_csv(\"train.txt\", sep = ';')\n",
    "data.columns = [\"Text\", \"Emotions\"]\n",
    "print(data.head())"
   ]
  },
  {
   "cell_type": "markdown",
   "id": "7ce8d9db",
   "metadata": {},
   "source": [
    "As this is a problem of natural language processing, I’ll start by tokenizing the data:"
   ]
  },
  {
   "cell_type": "code",
   "execution_count": 3,
   "id": "89410829",
   "metadata": {},
   "outputs": [],
   "source": [
    "texts = data[\"Text\"].tolist()\n",
    "labels = data[\"Emotions\"].tolist()\n",
    "\n",
    "#Tokenize the text data\n",
    "tokenizer = Tokenizer()\n",
    "tokenizer.fit_on_texts(texts)"
   ]
  },
  {
   "cell_type": "markdown",
   "id": "048cc468",
   "metadata": {},
   "source": [
    "Now we need to pad the sequences to the same length to feed them into a neural network. Here’s how we can pad the sequences of the texts to have the same length:"
   ]
  },
  {
   "cell_type": "code",
   "execution_count": 4,
   "id": "7ccf5b97",
   "metadata": {},
   "outputs": [],
   "source": [
    "sequences = tokenizer.texts_to_sequences(texts)\n",
    "max_length = max([len(seq) for seq in sequences])\n",
    "padded_sequences = pad_sequences(sequences, maxlen = max_length)"
   ]
  },
  {
   "cell_type": "markdown",
   "id": "94138ee1",
   "metadata": {},
   "source": [
    "Now I’ll use the label encoder method to convert the classes from strings to a numerical representation:"
   ]
  },
  {
   "cell_type": "code",
   "execution_count": 5,
   "id": "533836c8",
   "metadata": {},
   "outputs": [],
   "source": [
    "# Encode the string labels to integers\n",
    "label_encoder = LabelEncoder()\n",
    "labels = label_encoder.fit_transform(labels)"
   ]
  },
  {
   "cell_type": "markdown",
   "id": "16417ab9",
   "metadata": {},
   "source": [
    "We are now going to One-hot encode the labels. One hot encoding refers to the transformation of categorical labels into a binary representation where each label is represented as a vector of all zeros except a single 1. This is necessary because machine learning algorithms work with numerical data. So here is how we can One-hot encode the labels:"
   ]
  },
  {
   "cell_type": "code",
   "execution_count": 6,
   "id": "51b86420",
   "metadata": {},
   "outputs": [],
   "source": [
    "# One-hot encode the labels\n",
    "one_hot_labels = keras.utils.to_categorical(labels)"
   ]
  },
  {
   "cell_type": "markdown",
   "id": "f5536524",
   "metadata": {},
   "source": [
    "## Text Emotions Classification Model "
   ]
  },
  {
   "cell_type": "code",
   "execution_count": 7,
   "id": "4c7c2aba",
   "metadata": {},
   "outputs": [],
   "source": [
    "# Split the data into training and testing sets\n",
    "xtrain, xtest, ytrain, ytest = train_test_split(padded_sequences,\n",
    "                                               one_hot_labels,\n",
    "                                               test_size=0.2)"
   ]
  },
  {
   "cell_type": "markdown",
   "id": "57304508",
   "metadata": {},
   "source": [
    "Now let’s define a neural network architecture for our classification problem and use it to train a model to classify emotions:"
   ]
  },
  {
   "cell_type": "code",
   "execution_count": 8,
   "id": "a55c735b",
   "metadata": {},
   "outputs": [
    {
     "name": "stdout",
     "output_type": "stream",
     "text": [
      "Epoch 1/10\n",
      "400/400 [==============================] - 31s 76ms/step - loss: 1.3850 - accuracy: 0.4727 - val_loss: 0.9033 - val_accuracy: 0.7063\n",
      "Epoch 2/10\n",
      "400/400 [==============================] - 27s 68ms/step - loss: 0.3747 - accuracy: 0.8855 - val_loss: 0.5067 - val_accuracy: 0.8334\n",
      "Epoch 3/10\n",
      "400/400 [==============================] - 23s 58ms/step - loss: 0.0578 - accuracy: 0.9847 - val_loss: 0.5420 - val_accuracy: 0.8309\n",
      "Epoch 4/10\n",
      "400/400 [==============================] - 23s 59ms/step - loss: 0.0260 - accuracy: 0.9955 - val_loss: 0.5458 - val_accuracy: 0.8397\n",
      "Epoch 5/10\n",
      "400/400 [==============================] - 29s 73ms/step - loss: 0.0177 - accuracy: 0.9970 - val_loss: 0.5659 - val_accuracy: 0.8341\n",
      "Epoch 6/10\n",
      "400/400 [==============================] - 42s 106ms/step - loss: 0.0153 - accuracy: 0.9972 - val_loss: 0.6522 - val_accuracy: 0.8303\n",
      "Epoch 7/10\n",
      "400/400 [==============================] - 39s 98ms/step - loss: 0.0145 - accuracy: 0.9973 - val_loss: 0.6316 - val_accuracy: 0.8309\n",
      "Epoch 8/10\n",
      "400/400 [==============================] - 30s 76ms/step - loss: 0.0116 - accuracy: 0.9976 - val_loss: 0.6530 - val_accuracy: 0.8325\n",
      "Epoch 9/10\n",
      "400/400 [==============================] - 30s 75ms/step - loss: 0.0111 - accuracy: 0.9977 - val_loss: 0.7316 - val_accuracy: 0.8225\n",
      "Epoch 10/10\n",
      "400/400 [==============================] - 33s 82ms/step - loss: 0.0100 - accuracy: 0.9977 - val_loss: 0.7419 - val_accuracy: 0.8184\n"
     ]
    },
    {
     "data": {
      "text/plain": [
       "<keras.src.callbacks.History at 0x16d4b83fd30>"
      ]
     },
     "execution_count": 8,
     "metadata": {},
     "output_type": "execute_result"
    }
   ],
   "source": [
    "# Define the model\n",
    "model = Sequential()\n",
    "model.addd(Embedding(input_dim = len(tokenizer.word_index) + 1,\n",
    "                    output_dim = 128, input_length = max_length))\n",
    "\n",
    "model.add(Flatten())\n",
    "model.add(Dense(units = 128, activation = \"relu\"))\n",
    "model.add(Dense(units = len(one_hot_labels[0]), activation = \"softmax\"))\n",
    "\n",
    "model.compile(optimizer = \"adam\", loss = \"categorical_crossentropy\", metrics = [\"accuracy\"])\n",
    "model.fit(xtrain, ytrain, epochs = 10, batch_size = 32, validation_data = (xtest, ytest))"
   ]
  },
  {
   "cell_type": "markdown",
   "id": "b1d7c898",
   "metadata": {},
   "source": [
    "Now let’s take a sentence as an input text and see how the model performs:"
   ]
  },
  {
   "cell_type": "code",
   "execution_count": 9,
   "id": "e61fc686",
   "metadata": {},
   "outputs": [
    {
     "name": "stdout",
     "output_type": "stream",
     "text": [
      "1/1 [==============================] - 0s 156ms/step\n",
      "['sadness']\n"
     ]
    }
   ],
   "source": [
    "input_text = \"She didn't come today because she lost her dog yestertay!\"\n",
    "\n",
    "# Preprocess the input text\n",
    "input_sequence = tokenizer.texts_to_sequences([input_text])\n",
    "padded_input_sequence = pad_sequences(input_sequence, maxlen=max_length)\n",
    "prediction = model.predict(padded_input_sequence)\n",
    "predicted_label = label_encoder.inverse_transform([np.argmax(prediction[0])])\n",
    "print(predicted_label)"
   ]
  },
  {
   "cell_type": "markdown",
   "id": "bf5f9dfc",
   "metadata": {},
   "source": [
    "So this is how you can use Machine Learning for the task of text emotion classification using the Python programming language."
   ]
  },
  {
   "cell_type": "markdown",
   "id": "6884a503",
   "metadata": {},
   "source": [
    "## THANK YOU! "
   ]
  },
  {
   "cell_type": "markdown",
   "id": "876fe0fc",
   "metadata": {},
   "source": [
    "## GitHub Link: https://github.com/anujtiwari21?tab=repositories "
   ]
  }
 ],
 "metadata": {
  "kernelspec": {
   "display_name": "Python 3 (ipykernel)",
   "language": "python",
   "name": "python3"
  },
  "language_info": {
   "codemirror_mode": {
    "name": "ipython",
    "version": 3
   },
   "file_extension": ".py",
   "mimetype": "text/x-python",
   "name": "python",
   "nbconvert_exporter": "python",
   "pygments_lexer": "ipython3",
   "version": "3.10.9"
  }
 },
 "nbformat": 4,
 "nbformat_minor": 5
}
